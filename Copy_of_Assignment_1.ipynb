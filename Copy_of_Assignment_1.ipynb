{
  "nbformat": 4,
  "nbformat_minor": 0,
  "metadata": {
    "colab": {
      "name": "Copy of  Assignment 1",
      "version": "0.3.2",
      "provenance": [],
      "collapsed_sections": [],
      "include_colab_link": true
    },
    "kernelspec": {
      "name": "python3",
      "display_name": "Python 3"
    }
  },
  "cells": [
    {
      "cell_type": "markdown",
      "metadata": {
        "id": "view-in-github",
        "colab_type": "text"
      },
      "source": [
        "<a href=\"https://colab.research.google.com/github/ZhangDanny/UTS_ML2019_Main/blob/master/Copy_of_Assignment_1.ipynb\" target=\"_parent\"><img src=\"https://colab.research.google.com/assets/colab-badge.svg\" alt=\"Open In Colab\"/></a>"
      ]
    },
    {
      "cell_type": "markdown",
      "metadata": {
        "id": "lv_uJoOGaO_x",
        "colab_type": "text"
      },
      "source": [
        "**Name:Jianyu ZHANG            Student Number: 11793294**\n"
      ]
    },
    {
      "cell_type": "markdown",
      "metadata": {
        "id": "XoLSxoqWaYMI",
        "colab_type": "text"
      },
      "source": [
        "\n",
        "# Introduction \n",
        "This report introduces my overall understanding of the research paper: Eigenfaces vs. Fisherfaces: Recognition Using Class Specific Linear Projection. The first part of this report is about the understanding the whole content of this paper. The second part is about the innovation of this paper. The third part is about the personal view about the technical quality of this paper. The forth part is about the application domain in this paper. The final part is about the personal view of rating of this research paper.\n"
      ]
    },
    {
      "cell_type": "markdown",
      "metadata": {
        "id": "aMvgzUW9bKtl",
        "colab_type": "text"
      },
      "source": [
        "# Content\n",
        "This paper focuses the main problem about the few reliable algorithms can handle the variations in lighting direction and facial expression. The research in this paper is about a new developed approach about face recognition algorithm which is not sensitive to significant change in direction of lighting and facial expression.  In the first section of this paper, based on the observations of variations in lighting and facial expression, linear projection in faces is found from high-dimensional image space to low dimensional space, and linear project is not sensitive to changes in neither direction of lighting nor facial expression. Therefore, directions of projection that are nearly orthogonal to the within-class scatter, projecting away variations in lighting and facial expression while maintaining discriminability is chosen in this paper. Based on the previous important findings, two methods are introduced briefly which are Fisherfaces and Eigenface. In the second section of this paper, there are four methods in face recognition introduced in this part, which are correlation, Eigenfaces, linear subspaces, and Fisherfaces. In this part, the most important 2 methods are Eignefaces and Fisherfaces. Both methods are based on linear projection and have similar computation requirements. However, Fisherfaces is based Fisher’s Linear discriminant, and Eignefaces uses components analysis (PCA) for dimensionality reduction. In the third part of this paper, this part focused on the experimental results of the methods introduced in the previous part. There are two databases used in the experiments, one is from the Harvard Robotics Laboratory in variant lightings. Another database is built at Yale which includes both facial expression and lighting’s variation.  The experiments are conducted in 3 different situations, which are variation in lightings, Variation in Facial Expression, Eye Wear, and Lighting, and Glasses Recognition. All the experimental results are presented in terms of tables and graphs with all the methods in this paper. At the end of this paper, the most two important conclusions from all the experiments. One is that Fisherfaces method performs best among all the methods in both variation in lighting and facial expression, and another one is that Linear Subspace method suffers with variation in facial expression which meet the expectation. Therefore, an algorithm of Fisherface has been proposed in face recognition in this paper. \n"
      ]
    },
    {
      "cell_type": "markdown",
      "metadata": {
        "id": "P475yhvFbVrk",
        "colab_type": "text"
      },
      "source": [
        "# Innovation\n",
        "In this paper, a new face recognition algorithm is developed which is not sensitive to the large variation in lighting direction and facial expression. This is the first creative idea in this paper.  In the past few years, much progress has been made in face recognitions under small variations in lighting and facial expression. However, few algorithms or techniques can recognize faces properly under large variation in lighting direction a facial expression.  As mentioned example in this paper, the same person with the same facial expression under different lighting conditions, the appearance of image can appear dramatically different. The new developed algorithm has made a significant and new progress in face recognition, as face recognition will not be affected significantly by the change of lighting direction and facial expression in the future. Another creative part of this paper is that the fisherface algorithm is new developed approach which is not existing before in this research paper. This fisherface algorithm is derivative of Fisher’s Linear Discriminant algorithm which is an existing technique in pattern recognition developed by Robert Fisher in 1936, it maximizes the ratio of between-class scatter to that of within class scatter. Another creative point in this paper is that the idea of the new developed algorithm is based on the finding of linear projection of faces in a number of images from high dimension to low dimension.   In addition, some additional situations are also considered into the experiments, such as glasses recognition. And glass recognition is also innovative and meaningful experiment in this paper. Since in nowadays, we generally need to take off glasses when we are doing face recognitions. The result of this experiment would give some help in future research about the face recognitions with glasses recognition. \n"
      ]
    },
    {
      "cell_type": "markdown",
      "metadata": {
        "id": "VqO9jff2by6B",
        "colab_type": "text"
      },
      "source": [
        "# Technical Quality\n",
        "This research paper is organized logically and clear. In the first part of this paper, the paper has stated that the how and why of the idea of new algorithm come from, and explained the theory. Then it followed by the comparison among the methods, and the experiments of these methods. Finally, the conclusion is placed at the end of the paper based on the experiment results. On the other hand, this paper has made a comprehensive comparison among 4 methods of face recognition. All the methods’ theories have been explained clearly with their formulas and features including the advantages and disadvantages, which is more reliable than just describing one method only.  Thirdly, comparing all the methods theoretically is not good enough, the final choice needs to be supported by evidence. Experiments of each method is taken and the results are shown in this paper. The sources of databases are Harvard Robotics Laboratory and Yale, which are reliable sources in the world. Moreover, database come from 2 different sources also increases the reliability of the database. In the experiment, the data has been divided into 5 different subsets with different angles from the camera axis, which is much accurate than just one set of data. Moreover, an additional situation of glasses recognition is also taken in the last part of the experiment to increase the prescience of the experiments as wearing glass is a kind of situation which cannot be ignored in face recognition. However, there is one drawback for constructing the database, which is only data in variation of lighting is used in Harvard Robotics Laboratory. Both of variation of lighting and facial expression should be included in the data to be more accurate. \n"
      ]
    },
    {
      "cell_type": "markdown",
      "metadata": {
        "id": "EGOqnEr_cXgk",
        "colab_type": "text"
      },
      "source": [
        "# Application \n",
        "As for the future application of this technique, once the algorithm is confirmed, in the future, the technology of face recognition will become more and more mature. It can be expected that camera can recognize any faces under any conditions. The most widely used domain would be the security application. More important, this kind of technique will be very useful in recognizing suspect criminals since a lot of criminal will use the dark lighting or wear hat or glasses to escape chasing. However, with this development of technique, any suspect criminals will be more easily recognized under cameras. On the other hand, the administration system is another application domain, the error rates of face recognition will be reduced by applying the Fisherface algorithm. \n"
      ]
    },
    {
      "cell_type": "markdown",
      "metadata": {
        "id": "0nmNBk0-cjfJ",
        "colab_type": "text"
      },
      "source": [
        "# Presentation \n",
        "The quality of this paper is very high. The whole paper is arranged clear and logically, and the support evidence is reliable. It is easy for readers to understand the whole logic and argument in the whole paper. The depth of the argument is not very deep but very comprehensive. \n"
      ]
    },
    {
      "cell_type": "markdown",
      "metadata": {
        "id": "Az4ULNGKcsYx",
        "colab_type": "text"
      },
      "source": [
        "# Reference\n",
        "Peter.N ,Joao.P& David.J(1997) ‘Eigenfaces vs. Fisherfaces: Recognition Using Class Specific Linear Projection’ IEEE TRANSACTIONS ON PATTERN ANALYSIS AND MACHINE INTELLIGENCE, VOL. 19, NO. 7, JULY 1997\n"
      ]
    }
  ]
}